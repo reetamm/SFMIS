{
  "cells": [
    {
      "cell_type": "markdown",
      "metadata": {
        "id": "Pli35uYeHmtr"
      },
      "source": [
        "# Installing packages, importing packages, and authenticating and mounting Google drive."
      ]
    },
    {
      "cell_type": "code",
      "execution_count": null,
      "metadata": {
        "id": "ttd9B0z8NO71"
      },
      "outputs": [],
      "source": [
        "# @title Library installations\n",
        "%%capture\n",
        "!pip install geopandas\n",
        "!pip install rasterio\n",
        "!pip install earthpy"
      ]
    },
    {
      "cell_type": "code",
      "execution_count": null,
      "metadata": {
        "cellView": "form",
        "id": "w_cOGq7FNKVn"
      },
      "outputs": [],
      "source": [
        "# @title Library imports\n",
        "import os\n",
        "import matplotlib.pyplot as plt\n",
        "%matplotlib inline\n",
        "import seaborn as sns\n",
        "import numpy as np\n",
        "#from shapely.geometry import mapping\n",
        "import rasterio as rio\n",
        "from rasterio.plot import plotting_extent\n",
        "from rasterio.plot import show\n",
        "from rasterio.mask import mask\n",
        "import earthpy as et\n",
        "import earthpy.spatial as es\n",
        "import earthpy.plot as ep\n",
        "from osgeo import gdal\n",
        "import pandas as pd\n",
        "from sklearn.metrics import confusion_matrix\n",
        "import ee\n",
        "# Prettier plotting with seaborn\n",
        "sns.set(font_scale=1.5)"
      ]
    },
    {
      "cell_type": "code",
      "execution_count": null,
      "metadata": {
        "colab": {
          "base_uri": "https://localhost:8080/"
        },
        "id": "RWSJpsyKqHjH",
        "outputId": "c4e73b74-3680-49bc-c663-da04efee10f6"
      },
      "outputs": [
        {
          "output_type": "stream",
          "name": "stdout",
          "text": [
            "Mounted at /drive\n"
          ]
        }
      ],
      "source": [
        "# @title Mounting the Google drive with requisite permissions\n",
        "from google.colab import drive\n",
        "drive.mount('/drive')"
      ]
    },
    {
      "cell_type": "code",
      "execution_count": null,
      "metadata": {
        "id": "Ua5t3GffBTCo"
      },
      "outputs": [],
      "source": [
        "# @title Checking the contents of the Google drive folder which has GEE exports\n",
        "!ls /drive/My\\ Drive/GEE_exports"
      ]
    },
    {
      "cell_type": "markdown",
      "metadata": {
        "id": "C0Khc-ReH9Qs"
      },
      "source": [
        "# Combining tiles and clipping rasters to the shapefile"
      ]
    },
    {
      "cell_type": "code",
      "execution_count": null,
      "metadata": {
        "id": "TU_HLZ0bwvAI"
      },
      "outputs": [],
      "source": [
        "!gdalbuildvrt -srcnodata -9999 /drive/My\\ Drive/GEE_exports/binary/S2_Cls_Me_2019_20w.vrt /drive/My\\ Drive/GEE_exports/binary/S2_Cls_Me_2019_20w*.tif\n",
        "!gdalwarp -dstnodata -9999 -co \"COMPRESS=PACKBITS\" -co \"BIGTIFF=YES\" -cutline /drive/My\\ Drive/GEE_exports/panama2019/panama2019.shp /drive/My\\ Drive/GEE_exports/binary/S2_Cls_Me_2019_20w.vrt /drive/My\\ Drive/GEE_exports/binary/S2_Cls_Me_2019_20w_clipped.vrt\n",
        "!gdal_translate -ot Int32 -of GTiff -co COMPRESS=DEFLATE -co PREDICTOR=2 -co ZLEVEL=9 /drive/My\\ Drive/GEE_exports/binary/S2_Cls_Me_2019_20w_clipped.vrt /drive/My\\ Drive/GEE_exports/binary/S2_Cls_Me_2019_20w_clipped.tif\n",
        "!rm /drive/My\\ Drive/GEE_exports/binary/S2_Cls_Me_2019_20w_clipped.vrt"
      ]
    },
    {
      "cell_type": "code",
      "execution_count": null,
      "metadata": {
        "id": "DVQDC5_fIKZf"
      },
      "outputs": [],
      "source": [
        "!gdalbuildvrt -srcnodata -9999 /drive/My\\ Drive/GEE_exports/S2_Acc_Me_2019_20w.vrt /drive/My\\ Drive/GEE_exports/S2_Acc_Me_2019_20w*.tif\n",
        "!gdalwarp -co \"COMPRESS=PACKBITS\" -co \"BIGTIFF=YES\" -cutline /drive/My\\ Drive/GEE_exports/panama2019/panama2019.shp /drive/My\\ Drive/GEE_exports/S2_Acc_Me_2019_20w.vrt /drive/My\\ Drive/GEE_exports/S2_Acc_Me_2019_20w_50_clipped.vrt\n",
        "!gdal_translate -ot Int32 -of GTiff -co COMPRESS=DEFLATE -co PREDICTOR=2 -co ZLEVEL=9 /drive/My\\ Drive/GEE_exports/S2_Acc_Me_2019_20a_5w_clipped.vrt /drive/My\\ Drive/GEE_exports/S2_Acc_Me_2019_20w_clipped.tif\n",
        "!rm /drive/My\\ Drive/GEE_exports/S2_Acc_Me_2019_20w_clipped.vrt"
      ]
    },
    {
      "cell_type": "code",
      "execution_count": null,
      "metadata": {
        "id": "r0ELWZn6jGHP"
      },
      "outputs": [],
      "source": [
        "#Float32\n",
        "!gdalbuildvrt /drive/My\\ Drive/GEE_exports/percentages/S2_Cls_IC_2019_20w.vrt /drive/My\\ Drive/GEE_exports/percentages/S2_Cls_IC_2019_20w*.tif\n",
        "!gdalwarp -co \"COMPRESS=PACKBITS\" -co \"BIGTIFF=YES\" -cutline /drive/My\\ Drive/GEE_exports/panama2019/panama2019.shp /drive/My\\ Drive/GEE_exports/percentages/S2_Cls_IC_2019_20w.vrt /drive/My\\ Drive/GEE_exports/percentages/S2_Cls_IC_2019_20w_clipped.vrt\n",
        "!gdal_translate -ot Float32 -of GTiff -co COMPRESS=DEFLATE -co PREDICTOR=2 -co ZLEVEL=9 /drive/My\\ Drive/GEE_exports/percentages/S2_Cls_IC_2019_20w_clipped.vrt /drive/My\\ Drive/GEE_exports/percentages/S2_Cls_IC_2019_20w_clipped.tif\n",
        "!rm /drive/My\\ Drive/GEE_exports/percentages/S2_Cls_IC_2019_20w_clipped.vrt"
      ]
    },
    {
      "cell_type": "code",
      "execution_count": null,
      "metadata": {
        "id": "zYd6BvNhWcjP"
      },
      "outputs": [],
      "source": [
        "# new shapefile\n",
        "!gdalbuildvrt -srcnodata -9999 /drive/My\\ Drive/GEE_exports/S2_Cls_IC_2019_20w.vrt /drive/My\\ Drive/GEE_exports/S2_Cls_IC_2019_20w*.tif\n",
        "!gdalwarp -co \"COMPRESS=PACKBITS\" -co \"BIGTIFF=YES\" -cutline /drive/My\\ Drive/GEE_exports/panama20193/panama2019.shp /drive/My\\ Drive/GEE_exports/S2_Cls_IC_2019_20w.vrt /drive/My\\ Drive/GEE_exports/S2_Cls_IC_2019_20w_clipped.vrt\n",
        "!gdal_translate -ot Int32 -of GTiff -co COMPRESS=DEFLATE -co PREDICTOR=2 -co ZLEVEL=9 /drive/My\\ Drive/GEE_exports/S2_Cls_IC_2019_20w_clipped.vrt /drive/My\\ Drive/GEE_exports/S2_Cls_IC_2019_20w_clipped.tif\n",
        "!rm /drive/My\\ Drive/GEE_exports/S2_Cls_IC_2019_20w_clipped.vrt"
      ]
    },
    {
      "cell_type": "code",
      "execution_count": null,
      "metadata": {
        "id": "BVQmxvygOcyL"
      },
      "outputs": [],
      "source": [
        "!gdalbuildvrt -srcnodata -9999 /drive/My\\ Drive/GEE_exports/s2l8_20m_common.vrt /drive/My\\ Drive/GEE_exports/s2l8_20m_common*.tif\n",
        "!gdalwarp -dstnodata -9999 -co \"COMPRESS=PACKBITS\" -co \"BIGTIFF=YES\" -cutline /drive/My\\ Drive/GEE_exports/pan_adm0/PAN_adm0.shp /drive/My\\ Drive/GEE_exports/s2l8_20m_common.vrt /drive/My\\ Drive/GEE_exports/s2l8_20m_common_clipped.vrt\n",
        "!gdal_translate -ot Int32 -of GTiff -co COMPRESS=DEFLATE -co PREDICTOR=2 -co ZLEVEL=9 /drive/My\\ Drive/GEE_exports/s2l8_20m_common_clipped.vrt /drive/My\\ Drive/GEE_exports/s2l8_20m_common_clipped.tif\n",
        "!rm /drive/My\\ Drive/GEE_exports/S2_Acc_IC_2019_20_clipped.vrt"
      ]
    },
    {
      "cell_type": "code",
      "execution_count": null,
      "metadata": {
        "id": "r5TLK4q7OuEs"
      },
      "outputs": [],
      "source": [
        "!gdalbuildvrt -srcnodata -9999 /drive/My\\ Drive/GEE_exports/s2l8_20m_l8fixs2.vrt /drive/My\\ Drive/GEE_exports/s2l8_20m_l8fixs2*.tif\n",
        "!gdalwarp -dstnodata -9999 -co \"COMPRESS=PACKBITS\" -co \"BIGTIFF=YES\" -cutline /drive/My\\ Drive/GEE_exports/pan_adm0/PAN_adm0.shp /drive/My\\ Drive/GEE_exports/s2l8_20m_l8fixs2.vrt /drive/My\\ Drive/GEE_exports/s2l8_20m_l8fixs2_clipped.vrt\n",
        "!gdal_translate -ot Int32 -of GTiff -co COMPRESS=DEFLATE -co PREDICTOR=2 -co ZLEVEL=9 /drive/My\\ Drive/GEE_exports/s2l8_20m_l8fixs2_clipped.vrt /drive/My\\ Drive/GEE_exports/s2l8_20m_l8fixs2_clipped.tif\n",
        "!rm /drive/My\\ Drive/GEE_exports/s2l8_20m_l8fixs2_clipped.vrt"
      ]
    },
    {
      "cell_type": "code",
      "execution_count": null,
      "metadata": {
        "id": "GPDRasjLO9wu"
      },
      "outputs": [],
      "source": [
        "!gdalbuildvrt -srcnodata -9999 /drive/My\\ Drive/GEE_exports/s2l8_20m_s2fixl8.vrt /drive/My\\ Drive/GEE_exports/s2l8_20m_s2fixl8*.tif\n",
        "!gdalwarp -dstnodata -9999 -co \"COMPRESS=PACKBITS\" -co \"BIGTIFF=YES\" -cutline /drive/My\\ Drive/GEE_exports/pan_adm0/PAN_adm0.shp /drive/My\\ Drive/GEE_exports/s2l8_20m_s2fixl8.vrt /drive/My\\ Drive/GEE_exports/s2l8_20m_s2fixl8_clipped.vrt\n",
        "!gdal_translate -ot Int32 -of GTiff -co COMPRESS=DEFLATE -co PREDICTOR=2 -co ZLEVEL=9 /drive/My\\ Drive/GEE_exports/s2l8_20m_s2fixl8_clipped.vrt /drive/My\\ Drive/GEE_exports/s2l8_20m_s2fixl8_clipped.tif\n",
        "!rm /drive/My\\ Drive/GEE_exports/s2l8_20m_s2fixl8_clipped.vrt"
      ]
    },
    {
      "cell_type": "code",
      "execution_count": null,
      "metadata": {
        "id": "jIlIZzPxgdl6"
      },
      "outputs": [],
      "source": [
        "!gdalbuildvrt -srcnodata -9999 /drive/My\\ Drive/GEE_exports/pixels/S2_Pix_2019_20w.vrt /drive/My\\ Drive/GEE_exports/pixels/S2_Pix_2019_20w*.tif\n",
        "!gdalwarp -co \"COMPRESS=PACKBITS\" -co \"BIGTIFF=YES\" -cutline /drive/My\\ Drive/GEE_exports/panama2019/panama2019.shp /drive/My\\ Drive/GEE_exports/pixels/S2_Pix_2019_20w.vrt /drive/My\\ Drive/GEE_exports/pixels/S2_Pix_2019_20w_clipped.vrt\n",
        "!gdal_translate -ot Int32 -of GTiff -co COMPRESS=DEFLATE -co PREDICTOR=2 -co ZLEVEL=9 /drive/My\\ Drive/GEE_exports/pixels/S2_Pix_2019_20w_clipped.vrt /drive/My\\ Drive/GEE_exports/pixels/S2_Pix_2019_20w_clipped.tif\n",
        "!rm /drive/My\\ Drive/GEE_exports/pixels/S2_Pix_2019_20w_clipped.vrt"
      ]
    },
    {
      "cell_type": "code",
      "execution_count": null,
      "metadata": {
        "id": "LH056RxZC4lD"
      },
      "outputs": [],
      "source": [
        "!gdalbuildvrt -srcnodata -9999 /drive/My\\ Drive/GEE_exports/lc2019_4326.vrt /drive/My\\ Drive/GEE_exports/lc2019_4326*.tif\n",
        "!gdalwarp -dstnodata -9999 -co \"COMPRESS=PACKBITS\" -co \"BIGTIFF=YES\" -cutline /drive/My\\ Drive/GEE_exports/panama2019/panama2019.shp /drive/My\\ Drive/GEE_exports/lc2019_4326.vrt /drive/My\\ Drive/GEE_exports/lc2019_4326_clipped.vrt\n",
        "!gdal_translate -ot Int32 -of GTiff -co COMPRESS=DEFLATE -co PREDICTOR=2 -co ZLEVEL=9 /drive/My\\ Drive/GEE_exports/lc2019_4326_clipped.vrt /drive/My\\ Drive/GEE_exports/lc2019_4326_clipped.tif\n",
        "!rm /drive/My\\ Drive/GEE_exports/lc2019_4326_clipped.vrt"
      ]
    },
    {
      "cell_type": "code",
      "source": [
        "!gdalbuildvrt -srcnodata -9999 /drive/My\\ Drive/GEE_exports/composites/S2_Me_2019_20a.vrt /drive/My\\ Drive/GEE_exports/composites/S2_Me_2019_20a*.tif\n",
        "!gdalwarp -co \"COMPRESS=PACKBITS\" -co \"BIGTIFF=YES\" -cutline /drive/My\\ Drive/GEE_exports/training\\ polygons/L8_Cls_IC_2019_20w.shp /drive/My\\ Drive/GEE_exports/composites/S2_Me_2019_20a.vrt /drive/My\\ Drive/GEE_exports/composites/S2_Me_2019_20a_clipped.vrt\n",
        "!gdal_translate -ot Float32 -of GTiff -co COMPRESS=DEFLATE -co PREDICTOR=2 -co ZLEVEL=9 /drive/My\\ Drive/GEE_exports/composites/S2_Me_2019_20a_clipped.vrt /drive/My\\ Drive/GEE_exports/composites/S2_Me_2019_20a_clipped.tif\n",
        "!rm /drive/My\\ Drive/GEE_exports/composites/S2_Me_2019_20a_clipped.vrt"
      ],
      "metadata": {
        "id": "GSADaSHYCR77"
      },
      "execution_count": null,
      "outputs": []
    }
  ],
  "metadata": {
    "colab": {
      "collapsed_sections": [
        "TPZUdr-5cjFM"
      ],
      "provenance": [],
      "authorship_tag": "ABX9TyM2Xz4ih4rM4EDghfLgiy7q"
    },
    "kernelspec": {
      "display_name": "Python 3",
      "name": "python3"
    }
  },
  "nbformat": 4,
  "nbformat_minor": 0
}